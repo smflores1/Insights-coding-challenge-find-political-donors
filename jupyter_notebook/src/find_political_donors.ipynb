{
 "cells": [
  {
   "cell_type": "code",
   "execution_count": 1,
   "metadata": {},
   "outputs": [
    {
     "name": "stderr",
     "output_type": "stream",
     "text": [
      "/anaconda/lib/python3.6/site-packages/numexpr/cpuinfo.py:53: UserWarning: [Errno 2] No such file or directory: 'arch'\n",
      "  stacklevel=stacklevel + 1)\n",
      "/anaconda/lib/python3.6/site-packages/numexpr/cpuinfo.py:53: UserWarning: [Errno 2] No such file or directory: 'machine'\n",
      "  stacklevel=stacklevel + 1)\n",
      "/anaconda/lib/python3.6/site-packages/numexpr/cpuinfo.py:76: UserWarning: [Errno 2] No such file or directory: 'sysctl'\n",
      "  stacklevel=stacklevel + 1):\n"
     ]
    }
   ],
   "source": [
    "import sys\n",
    "import time\n",
    "import datetime\n",
    "import pandas as pd\n",
    "import statistics as st"
   ]
  },
  {
   "cell_type": "code",
   "execution_count": 2,
   "metadata": {
    "collapsed": true
   },
   "outputs": [],
   "source": [
    "#The following function rounds x to the nearest integer, rounding all half-integers up:\n",
    "def my_round(x):\n",
    "    \n",
    "    y = round(x)\n",
    "    if x == y + 0.5:\n",
    "        y += 1\n",
    "    return y"
   ]
  },
  {
   "cell_type": "code",
   "execution_count": 3,
   "metadata": {},
   "outputs": [],
   "source": [
    "#Upload a list of all US zip codes from 'us_postal_codes.csv':\n",
    "zip_code_series = pd.read_csv('../input/us_postal_codes.csv')['Zip Code']\n",
    "zip_code_list = ['0' * (5 - len(str(x))) + str(x) for x in zip_code_series]"
   ]
  },
  {
   "cell_type": "code",
   "execution_count": 4,
   "metadata": {
    "collapsed": true
   },
   "outputs": [],
   "source": [
    "#The following function checks that the input string is a valid zip code:\n",
    "def check_zip_code_format(string, zip_code_list):\n",
    "    if string in zip_code_list:\n",
    "        return True\n",
    "    else:\n",
    "        return False"
   ]
  },
  {
   "cell_type": "code",
   "execution_count": 5,
   "metadata": {
    "collapsed": true
   },
   "outputs": [],
   "source": [
    "#The following function checks that the input string is a valid date in years 2010-2018:\n",
    "def check_date_format(string): \n",
    "    \n",
    "    list_of_valid_dates = []\n",
    "    \n",
    "    for year in range(2010, 2019):\n",
    "        for month in range(1, 13):\n",
    "            if month in [1, 3, 5, 7, 8, 10, 12]:\n",
    "                month_length = 32\n",
    "            elif month in [4, 6, 9, 11]:\n",
    "                month_length = 31\n",
    "            else:\n",
    "                month_length = 29\n",
    "            for day in range(1, month_length):\n",
    "                list_of_valid_dates.append('0' * (2 - len(str(month))) + str(month) + '0' * (2 - len(str(day))) + str(day) + str(year))\n",
    "    \n",
    "    #Include two leap years:\n",
    "    list_of_valid_dates += ['02292012', '02292016']\n",
    "    \n",
    "    if string in list_of_valid_dates:\n",
    "        return True\n",
    "    else:\n",
    "        return False"
   ]
  },
  {
   "cell_type": "code",
   "execution_count": 6,
   "metadata": {},
   "outputs": [
    {
     "name": "stdout",
     "output_type": "stream",
     "text": [
      "Time to process the input file: --- 0.06910896301269531 seconds ---\n"
     ]
    }
   ],
   "source": [
    "#Main body:\n",
    "\n",
    "start_time = time.time()\n",
    "\n",
    "with open('../input/itcont.txt') as in_file, open('../output/medianvals_by_zip.txt', 'w+') as out_file_zip, open('../output/medianvals_by_date.txt', 'w+') as out_file_date:\n",
    "    \n",
    "    stream_dic = {}\n",
    "\n",
    "    for line in in_file:\n",
    "        \n",
    "        broken_line = line.split('|')\n",
    "        if len(broken_line) != 21:\n",
    "            continue\n",
    "            \n",
    "        cmte_id = broken_line[0] #recipient id\n",
    "        zip_code = broken_line[10][:5] #zip code\n",
    "        transaction_dt = broken_line[13] #donation date\n",
    "        transaction_amt = broken_line[14] #donation amount\n",
    "        other_id = broken_line[15]\n",
    "        \n",
    "        #Ignore the line if other_id is empty:\n",
    "        if cmte_id == '' or transaction_amt == '' or other_id != '':\n",
    "            continue \n",
    "        \n",
    "        #If the recipient id is not a key, create a new key, empty-value pair:\n",
    "        #Each value will eventually be a list of two dictionaries. \n",
    "            #-The first dictionary contains donation-zip-code, donation-amount-list key, value pairs:\n",
    "            #-The secon ddictionary contains donation-date, donation-amount-list key-value paris:\n",
    "        if cmte_id not in stream_dic.keys():\n",
    "            stream_dic[cmte_id] = [{}, {}]\n",
    "        \n",
    "        #Add the donation amount to the first dictionary of stream_dic[cmte_id]:\n",
    "        if check_zip_code_format(zip_code, zip_code_list):\n",
    "            if zip_code not in stream_dic[cmte_id][0].keys():\n",
    "                stream_dic[cmte_id][0][zip_code] = []\n",
    "            stream_dic[cmte_id][0][zip_code] += [float(transaction_amt)]\n",
    "            \n",
    "            #Print out to 'medianvals_by_zip.txt':\n",
    "            donation_list = stream_dic[cmte_id][0][zip_code]\n",
    "            out_file_zip.write('{}|{}|{}|{}|{}\\n'.format(cmte_id, zip_code, \n",
    "                                                         my_round(st.median(donation_list)), \n",
    "                                                         len(donation_list), \n",
    "                                                         my_round(sum(donation_list))))\n",
    "        \n",
    "        #Add the donation amount to the second dictionary of stream_dic[cmte_id]:\n",
    "        if check_date_format(transaction_dt):\n",
    "            datestamp = datetime.datetime.strptime(transaction_dt, '%m%d%Y')\n",
    "            if datestamp not in stream_dic[cmte_id][1].keys():\n",
    "                stream_dic[cmte_id][1][datestamp] = []\n",
    "            stream_dic[cmte_id][1][datestamp] += [float(transaction_amt)]\n",
    "    \n",
    "    #Print out to 'medianvals_by_date.txt':\n",
    "    for recipient in sorted(stream_dic.keys()):\n",
    "        for datestamp in sorted(stream_dic[recipient][1].keys()):\n",
    "            donation_list = stream_dic[recipient][1][datestamp]\n",
    "            out_file_date.write('{}|{}|{}|{}|{}\\n'.format(recipient, \n",
    "                                                         datestamp.strftime('%m%d%Y'), \n",
    "                                                         my_round(st.median(donation_list)), \n",
    "                                                         len(donation_list), \n",
    "                                                         my_round(sum(donation_list))))\n",
    "\n",
    "print(\"Time to process the input file: --- %s seconds ---\" % (time.time() - start_time))"
   ]
  },
  {
   "cell_type": "code",
   "execution_count": null,
   "metadata": {
    "collapsed": true
   },
   "outputs": [],
   "source": []
  }
 ],
 "metadata": {
  "kernelspec": {
   "display_name": "Python 3",
   "language": "python",
   "name": "python3"
  },
  "language_info": {
   "codemirror_mode": {
    "name": "ipython",
    "version": 3
   },
   "file_extension": ".py",
   "mimetype": "text/x-python",
   "name": "python",
   "nbconvert_exporter": "python",
   "pygments_lexer": "ipython3",
   "version": "3.6.1"
  }
 },
 "nbformat": 4,
 "nbformat_minor": 2
}
